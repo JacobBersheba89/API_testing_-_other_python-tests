{
 "cells": [
  {
   "cell_type": "code",
   "execution_count": 1,
   "metadata": {},
   "outputs": [
    {
     "name": "stdout",
     "output_type": "stream",
     "text": [
      "Requirement already satisfied: pyperclip in c:\\users\\jpawlas\\appdata\\local\\programs\\python\\python313\\lib\\site-packages (1.9.0)\n",
      "Requirement already satisfied: keyboard in c:\\users\\jpawlas\\appdata\\local\\programs\\python\\python313\\lib\\site-packages (0.13.5)\n",
      "Requirement already satisfied: pyautogui in c:\\users\\jpawlas\\appdata\\local\\programs\\python\\python313\\lib\\site-packages (0.9.54)\n",
      "Requirement already satisfied: pymsgbox in c:\\users\\jpawlas\\appdata\\local\\programs\\python\\python313\\lib\\site-packages (from pyautogui) (1.0.9)\n",
      "Requirement already satisfied: pytweening>=1.0.4 in c:\\users\\jpawlas\\appdata\\local\\programs\\python\\python313\\lib\\site-packages (from pyautogui) (1.2.0)\n",
      "Requirement already satisfied: pyscreeze>=0.1.21 in c:\\users\\jpawlas\\appdata\\local\\programs\\python\\python313\\lib\\site-packages (from pyautogui) (1.0.1)\n",
      "Requirement already satisfied: pygetwindow>=0.0.5 in c:\\users\\jpawlas\\appdata\\local\\programs\\python\\python313\\lib\\site-packages (from pyautogui) (0.0.9)\n",
      "Requirement already satisfied: mouseinfo in c:\\users\\jpawlas\\appdata\\local\\programs\\python\\python313\\lib\\site-packages (from pyautogui) (0.1.3)\n",
      "Requirement already satisfied: pyrect in c:\\users\\jpawlas\\appdata\\local\\programs\\python\\python313\\lib\\site-packages (from pygetwindow>=0.0.5->pyautogui) (0.2.0)\n",
      "Note: you may need to restart the kernel to use updated packages.\n"
     ]
    }
   ],
   "source": [
    "pip install pyperclip keyboard pyautogui"
   ]
  },
  {
   "cell_type": "code",
   "execution_count": 3,
   "metadata": {},
   "outputs": [
    {
     "name": "stdout",
     "output_type": "stream",
     "text": [
      "Collecting pystray\n",
      "  Downloading pystray-0.19.5-py2.py3-none-any.whl.metadata (9.4 kB)\n",
      "Requirement already satisfied: Pillow in c:\\users\\jpawlas\\appdata\\local\\programs\\python\\python313\\lib\\site-packages (from pystray) (11.1.0)\n",
      "Requirement already satisfied: six in c:\\users\\jpawlas\\appdata\\roaming\\python\\python313\\site-packages (from pystray) (1.17.0)\n",
      "Downloading pystray-0.19.5-py2.py3-none-any.whl (49 kB)\n",
      "Installing collected packages: pystray\n",
      "Successfully installed pystray-0.19.5\n",
      "Note: you may need to restart the kernel to use updated packages.\n"
     ]
    }
   ],
   "source": [
    "pip install pystray"
   ]
  },
  {
   "cell_type": "code",
   "execution_count": null,
   "metadata": {},
   "outputs": [],
   "source": [
    "import pyperclip\n",
    "import keyboard\n",
    "import tkinter as tk\n",
    "import threading\n",
    "import time\n",
    "import pyautogui\n",
    "from pystray import Icon, Menu, MenuItem\n",
    "from PIL import Image, ImageDraw\n",
    "\n",
    "# Funkce pro vytvoření ikony\n",
    "def create_image():\n",
    "    width = 64\n",
    "    height = 64\n",
    "    image = Image.new('RGB', (width, height), (255, 255, 255))\n",
    "    draw = ImageDraw.Draw(image)\n",
    "    draw.rectangle((0, 0, width, height), fill=(255, 200, 0))\n",
    "    draw.ellipse((16, 16, 48, 48), fill=(255, 255, 0))\n",
    "    return image\n",
    "\n",
    "# Tooltip funkce\n",
    "def show_tooltip(text, duration=5000):\n",
    "    x, y = pyautogui.position()\n",
    "    root = tk.Tk()\n",
    "    root.overrideredirect(True)\n",
    "    root.attributes(\"-topmost\", True)\n",
    "    root.attributes(\"-alpha\", 0.9)\n",
    "    label = tk.Label(root, text=text, bg=\"yellow\", fg=\"black\", padx=10, pady=5)\n",
    "    label.pack()\n",
    "    root.geometry(f\"+{x+10}+{y+10}\")\n",
    "\n",
    "    # Zavřít tooltip po určité době\n",
    "    root.after(duration, root.destroy)\n",
    "    root.mainloop()\n",
    "\n",
    "# Clipboard monitor\n",
    "def monitor_clipboard():\n",
    "    while True:\n",
    "        keyboard.wait(\"ctrl+shift+q\")\n",
    "        try:\n",
    "            clipboard_text = pyperclip.paste()\n",
    "            if clipboard_text:\n",
    "                threading.Thread(target=show_tooltip, args=(clipboard_text,), daemon=True).start()\n",
    "        except Exception as e:\n",
    "            print(f\"Chyba: {e}\")\n",
    "\n",
    "# Funkce pro ukončení programu\n",
    "def quit_program(icon):\n",
    "    icon.stop()\n",
    "\n",
    "# Spustit monitorování v novém vlákně\n",
    "def start_program(icon):\n",
    "    threading.Thread(target=monitor_clipboard, daemon=True).start()\n",
    "\n",
    "# Menu pro tray ikonu\n",
    "menu = Menu(\n",
    "    MenuItem('Start', lambda: start_program(icon)),\n",
    "    MenuItem('Quit', quit_program)\n",
    ")\n",
    "\n",
    "icon = Icon('TooltipApp', create_image(), menu=menu)\n",
    "\n",
    "if __name__ == \"__main__\":\n",
    "    icon.run()\n",
    "\n",
    "    \n",
    "    "
   ]
  }
 ],
 "metadata": {
  "kernelspec": {
   "display_name": "Python 3",
   "language": "python",
   "name": "python3"
  },
  "language_info": {
   "codemirror_mode": {
    "name": "ipython",
    "version": 3
   },
   "file_extension": ".py",
   "mimetype": "text/x-python",
   "name": "python",
   "nbconvert_exporter": "python",
   "pygments_lexer": "ipython3",
   "version": "3.13.1"
  }
 },
 "nbformat": 4,
 "nbformat_minor": 2
}
