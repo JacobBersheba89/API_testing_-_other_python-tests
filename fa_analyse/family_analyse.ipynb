{
 "cells": [
  {
   "cell_type": "markdown",
   "metadata": {},
   "source": [
    "**Analyse of ouor family.. date and palce of birth**"
   ]
  },
  {
   "cell_type": "code",
   "execution_count": null,
   "metadata": {},
   "outputs": [],
   "source": [
    "import pandas as pd  # Práce s daty\n",
    "import networkx as nx  # Tvorba grafové struktury (rodokmen)\n",
    "import plotly.express as px  # Interaktivní vizualizace\n",
    "import dash  # Webový framework pro interaktivní vizualizace\n",
    "import folium  # Práce s mapami (pokud chceš i geografická data)\n",
    "import keyboard  # Zachytávání klávesových zkratek\n",
    "from dash_extensions import Keyboard  # Rozšíření pro klávesové zkratky v Dash\n"
   ]
  },
  {
   "cell_type": "markdown",
   "metadata": {},
   "source": []
  }
 ],
 "metadata": {
  "kernelspec": {
   "display_name": "Python 3",
   "language": "python",
   "name": "python3"
  },
  "language_info": {
   "name": "python",
   "version": "3.13.1"
  }
 },
 "nbformat": 4,
 "nbformat_minor": 2
}
